{
 "cells": [
  {
   "cell_type": "markdown",
   "metadata": {},
   "source": [
    "## Problem 5.9 - SVM Applied to MNIST\n",
    "\n",
    "**The Problem**: \n",
    "\n",
    "Train an SVM classifier on the MNIST dataset. Since SVM classifiers are binary classifiers, you will need to use one-versus-the-rest to classify all 10 digits. You may want to tune the hyperparameters using small validation sets to speed up the process. What accuracy can you reach?\n",
    "\n",
    "\n",
    "### Importing the MNIST Dataset\n",
    "\n",
    "We'll try to use the same import try as in Ch. 3 - Classification."
   ]
  },
  {
   "cell_type": "code",
   "execution_count": null,
   "metadata": {
    "ExecuteTime": {
     "end_time": "2019-10-18T13:01:16.731216Z",
     "start_time": "2019-10-18T13:00:34.634255Z"
    }
   },
   "outputs": [],
   "source": [
    "from sklearn.datasets import fetch_openml\n",
    "\n",
    "# Try importing the MNIST dataset from Open ML, if not then from a github link\n",
    "try:\n",
    "    mnist_X, mnist_y = fetch_openml('mnist_784', version=1, return_X_y=True)\n",
    "except Exception as ex:        \n",
    "    from six.moves import urllib\n",
    "    from scipy.io import loadmat\n",
    "    import os\n",
    "\n",
    "    mnist_path = os.path.join(\".\", \"datasets\", \"mnist-original.mat\")\n",
    "\n",
    "    # download dataset from github.\n",
    "    mnist_alternative_url = \"https://github.com/amplab/datascience-sp14/raw/master/lab7/mldata/mnist-original.mat\"\n",
    "    response = urllib.request.urlopen(mnist_alternative_url)\n",
    "    with open(mnist_path, \"wb\") as f:\n",
    "        content = response.read()\n",
    "        f.write(content)\n",
    "\n",
    "    mnist_raw = loadmat(mnist_path)\n",
    "    mnist = {\n",
    "        \"data\": mnist_raw[\"data\"].T,\n",
    "        \"target\": mnist_raw[\"label\"][0],\n",
    "        \"COL_NAMES\": [\"label\", \"data\"],\n",
    "        \"DESCR\": \"mldata.org dataset: mnist-original\",\n",
    "    }\n",
    "    print(\"Done!\")"
   ]
  },
  {
   "cell_type": "code",
   "execution_count": null,
   "metadata": {
    "ExecuteTime": {
     "end_time": "2019-10-18T13:01:26.244696Z",
     "start_time": "2019-10-18T13:01:26.237716Z"
    }
   },
   "outputs": [],
   "source": [
    "import numpy as np\n",
    "\n",
    "# Check out the dimensions of the dataset\n",
    "print(\"Shape of mnist_X: \", np.shape(mnist_X))\n",
    "print(\"Shape of mnist_y: \", np.shape(mnist_y))"
   ]
  },
  {
   "cell_type": "markdown",
   "metadata": {},
   "source": [
    "So, it is safe to say that our _mnist_X_ variable containst our instances (the rows) of 784 total pixels each (the columns). The _mnist_y_ variable contains the categorization of each respective instance."
   ]
  },
  {
   "cell_type": "markdown",
   "metadata": {},
   "source": [
    "### Splitting Testing and Training Data\n",
    "\n",
    "We have to split our testing and training data. We can do this with a scikit-learn method. Or, since MNIST is already split up into testing and training sets, we can just take the first rows that are recommended for test."
   ]
  },
  {
   "cell_type": "code",
   "execution_count": null,
   "metadata": {
    "ExecuteTime": {
     "end_time": "2019-10-18T13:01:27.735685Z",
     "start_time": "2019-10-18T13:01:27.724716Z"
    }
   },
   "outputs": [],
   "source": [
    "# Split up the test and training data\n",
    "mnist_X_train, mnist_X_test = mnist_X[:60000], mnist_X[60000:]\n",
    "mnist_y_train, mnist_y_test = mnist_y[:60000], mnist_y[60000:]\n",
    "\n",
    "# Make sure they are shaped correctly\n",
    "print(\"Training set images: \", np.shape(mnist_X_train))\n",
    "print(\"Training set categories: \", np.shape(mnist_y_train))\n",
    "print(\"\\n\")\n",
    "print(\"Test set images: \", np.shape(mnist_X_test))\n",
    "print(\"Test set categories: \", np.shape(mnist_y_test))"
   ]
  },
  {
   "cell_type": "markdown",
   "metadata": {},
   "source": [
    "This distribution will work.\n",
    "\n",
    "### Train the SVM Classifier\n",
    "\n"
   ]
  },
  {
   "cell_type": "code",
   "execution_count": null,
   "metadata": {
    "ExecuteTime": {
     "end_time": "2019-10-18T13:01:28.877512Z",
     "start_time": "2019-10-18T13:01:28.607500Z"
    }
   },
   "outputs": [],
   "source": [
    "from sklearn.pipeline import Pipeline\n",
    "from sklearn.preprocessing import StandardScaler\n",
    "from sklearn.svm import LinearSVC\n",
    "\n",
    "# Create the pipeline for the linear SVM classifier\n",
    "svm_clf = Pipeline([\n",
    "    (\"scaler\", StandardScaler()),\n",
    "    (\"linear_svc\", LinearSVC(C=1, loss=\"hinge\", max_iter=5000))\n",
    "])\n"
   ]
  },
  {
   "cell_type": "code",
   "execution_count": null,
   "metadata": {
    "ExecuteTime": {
     "end_time": "2019-10-18T13:01:30.862701Z",
     "start_time": "2019-10-18T13:01:30.851733Z"
    }
   },
   "outputs": [],
   "source": [
    "from sklearn.multiclass import OneVsRestClassifier"
   ]
  },
  {
   "cell_type": "code",
   "execution_count": null,
   "metadata": {
    "ExecuteTime": {
     "end_time": "2019-10-18T13:14:03.099603Z",
     "start_time": "2019-10-18T13:01:32.553614Z"
    }
   },
   "outputs": [],
   "source": [
    "# Set up the one v. rest classifier\n",
    "ovr_clf = OneVsRestClassifier(svm_clf)\n",
    "\n",
    "# Train it\n",
    "ovr_clf.fit(mnist_X_train, mnist_y_train)"
   ]
  },
  {
   "cell_type": "markdown",
   "metadata": {},
   "source": [
    "### Evaluate Performance with Confusion Matrix"
   ]
  },
  {
   "cell_type": "code",
   "execution_count": null,
   "metadata": {
    "ExecuteTime": {
     "end_time": "2019-10-18T13:14:03.929449Z",
     "start_time": "2019-10-18T13:14:03.207819Z"
    }
   },
   "outputs": [],
   "source": [
    "from sklearn.model_selection import cross_val_predict\n",
    "from sklearn.metrics import confusion_matrix\n",
    "\n",
    "import matplotlib.pyplot as plt"
   ]
  },
  {
   "cell_type": "code",
   "execution_count": null,
   "metadata": {
    "ExecuteTime": {
     "end_time": "2019-09-23T20:52:40.659634Z",
     "start_time": "2019-09-23T20:40:09.620348Z"
    }
   },
   "outputs": [],
   "source": [
    "# Implement cross-validation\n",
    "mnist_y_train_pred = cross_val_predict(ovr_clf, mnist_X_train, mnist_y_train, cv=3)\n",
    "\n",
    "# Plot the confusion matrix\n",
    "conf_mx = confusion_matrix(mnist_y_train, mnist_y_train_pred)\n",
    "\n",
    "plt.matshow(conf_mx, cmap=plt.cm.gray)\n",
    "plt.show()"
   ]
  },
  {
   "cell_type": "markdown",
   "metadata": {},
   "source": [
    "### Fixing the ConvergenceWarning\n",
    "\n",
    "Here, we enter the first error that I do not know if what I am going to do will help! We'll take the warning's advice and increase the number of iterations"
   ]
  },
  {
   "cell_type": "code",
   "execution_count": null,
   "metadata": {
    "ExecuteTime": {
     "end_time": "2019-09-24T23:04:12.642868Z",
     "start_time": "2019-09-24T22:46:42.183247Z"
    }
   },
   "outputs": [],
   "source": [
    "# Create the pipeline for the linear SVM classifier\n",
    "svm_clf_inc_iter = Pipeline([\n",
    "    (\"scaler\", StandardScaler()),\n",
    "    (\"linear_svc\", LinearSVC(C=1, loss=\"hinge\", max_iter=10000))\n",
    "])\n",
    "\n",
    "# Set up the one v. rest classifier\n",
    "ovr_clf_inc_iter = OneVsRestClassifier(svm_clf_inc_iter)\n",
    "\n",
    "# Train it\n",
    "ovr_clf_inc_iter.fit(mnist_X_train, mnist_y_train)"
   ]
  },
  {
   "cell_type": "markdown",
   "metadata": {},
   "source": [
    "It's quite obvious that this is not the solution we are looking for. Instead, we can try a different solution. We will try the **polynomial kernel trick** next and see if that helps."
   ]
  },
  {
   "cell_type": "code",
   "execution_count": null,
   "metadata": {
    "ExecuteTime": {
     "end_time": "2019-10-18T13:14:04.045147Z",
     "start_time": "2019-10-18T13:14:04.040161Z"
    }
   },
   "outputs": [],
   "source": [
    "from sklearn.svm import SVC"
   ]
  },
  {
   "cell_type": "code",
   "execution_count": null,
   "metadata": {
    "ExecuteTime": {
     "end_time": "2019-09-24T23:24:50.242664Z",
     "start_time": "2019-09-24T23:05:00.754713Z"
    }
   },
   "outputs": [],
   "source": [
    "# Attempting to fix the convergence warning with the polynomial kernel trick\n",
    "poly_kernel_svm_clf = Pipeline([\n",
    "        (\"scaler\", StandardScaler()),\n",
    "        (\"poly_svm_clf\", SVC(kernel=\"poly\", degree=3, coef0=1, C=5))\n",
    "    ])\n",
    "\n",
    "# Set up the one v. rest classifier\n",
    "ovr_clf_poly_svm = OneVsRestClassifier(poly_kernel_svm_clf)\n",
    "\n",
    "# Implement cross-validation\n",
    "mnist_y_train_pred = cross_val_predict(poly_kernel_svm_clf, mnist_X_train, mnist_y_train, cv=3)\n",
    "\n",
    "# Plot the confusion matrix\n",
    "conf_mx = confusion_matrix(mnist_y_train, mnist_y_train_pred)\n",
    "\n",
    "print(\"confusion matrix: \\n \", conf_mx)\n",
    "\n",
    "plt.matshow(conf_mx, cmap=plt.cm.gray)\n",
    "plt.show()"
   ]
  },
  {
   "cell_type": "markdown",
   "metadata": {},
   "source": [
    "We'll explicitly avoid this warning and rerun the training."
   ]
  },
  {
   "cell_type": "code",
   "execution_count": null,
   "metadata": {
    "ExecuteTime": {
     "end_time": "2019-10-17T23:09:38.978388Z",
     "start_time": "2019-10-17T22:48:47.365914Z"
    }
   },
   "outputs": [],
   "source": [
    "# Attempting to fix the convergence warning with the polynomial kernel trick\n",
    "poly_kernel_svm_clf = Pipeline([\n",
    "        (\"scaler\", StandardScaler()),\n",
    "        (\"poly_svm_clf\", SVC(kernel=\"poly\", degree=3, coef0=1, C=5, gamma='auto'))\n",
    "    ])\n",
    "\n",
    "# Set up the one v. rest classifier\n",
    "ovr_clf_poly_svm = OneVsRestClassifier(poly_kernel_svm_clf)\n",
    "\n",
    "# Implement cross-validation\n",
    "mnist_y_train_pred = cross_val_predict(poly_kernel_svm_clf, mnist_X_train, mnist_y_train, cv=3)\n",
    "\n",
    "# Plot the confusion matrix\n",
    "conf_mx = confusion_matrix(mnist_y_train, mnist_y_train_pred)\n",
    "\n",
    "print(\"confusion matrix: \\n \", conf_mx)\n",
    "\n",
    "plt.matshow(conf_mx, cmap=plt.cm.gray)\n",
    "plt.show()"
   ]
  },
  {
   "cell_type": "markdown",
   "metadata": {},
   "source": [
    "### Implementing a Grid Search for the Polynomial Kernal SVM\n",
    "\n"
   ]
  },
  {
   "cell_type": "code",
   "execution_count": null,
   "metadata": {
    "ExecuteTime": {
     "end_time": "2019-10-18T13:19:39.896905Z",
     "start_time": "2019-10-18T13:19:39.890920Z"
    }
   },
   "outputs": [],
   "source": [
    "from sklearn.model_selection import GridSearchCV"
   ]
  },
  {
   "cell_type": "code",
   "execution_count": null,
   "metadata": {
    "ExecuteTime": {
     "end_time": "2019-10-18T13:20:13.067350Z",
     "start_time": "2019-10-18T13:20:13.061368Z"
    }
   },
   "outputs": [],
   "source": [
    "# Attempting to fix the convergence warning with the polynomial kernel trick\n",
    "poly_kernel_svm_clf = Pipeline([\n",
    "        (\"scaler\", StandardScaler()),\n",
    "        (\"poly_svm_clf\", SVC(kernel=\"poly\", degree=3, coef0=1, C=5, gamma='auto'))\n",
    "    ])"
   ]
  },
  {
   "cell_type": "code",
   "execution_count": null,
   "metadata": {
    "ExecuteTime": {
     "end_time": "2019-10-18T13:20:13.671018Z",
     "start_time": "2019-10-18T13:20:13.667027Z"
    }
   },
   "outputs": [],
   "source": [
    "# Set up the one v. rest classifier\n",
    "ovr_clf_poly_svm = OneVsRestClassifier(poly_kernel_svm_clf)"
   ]
  },
  {
   "cell_type": "markdown",
   "metadata": {},
   "source": [
    "To see which parameters we can vary across our grid search we can use the following command."
   ]
  },
  {
   "cell_type": "code",
   "execution_count": null,
   "metadata": {
    "ExecuteTime": {
     "end_time": "2019-10-18T13:20:17.762289Z",
     "start_time": "2019-10-18T13:20:17.741996Z"
    }
   },
   "outputs": [],
   "source": [
    "# Print out keys we can vary across the GridSearch\n",
    "ovr_clf_poly_svm.get_params().keys()"
   ]
  },
  {
   "cell_type": "code",
   "execution_count": null,
   "metadata": {
    "ExecuteTime": {
     "start_time": "2019-10-18T13:21:00.851Z"
    }
   },
   "outputs": [],
   "source": [
    "# Choose which params to search across\n",
    "param_grid = [\n",
    "    {'estimator__poly_svm_clf__kernel': [\"poly\"],\n",
    "     'estimator__poly_svm_clf__coef0': [1],\n",
    "     'estimator__poly_svm_clf__C': [0.1, 1, 10],\n",
    "     'estimator__poly_svm_clf__degree': [2, 5, 10]}\n",
    "]\n",
    "\n",
    "# Perform the grid search through the PipeLine\n",
    "grid_search = GridSearchCV(ovr_clf_poly_svm, param_grid,\n",
    "                           cv=3,\n",
    "                           scoring='accuracy',\n",
    "                           return_train_score=True)\n",
    "\n",
    "# Fit the grid-searches to the MNIST data\n",
    "grid_search.fit(mnist_X_train, mnist_y_train)"
   ]
  },
  {
   "cell_type": "code",
   "execution_count": null,
   "metadata": {},
   "outputs": [],
   "source": [
    "# Print the best parameters\n",
    "grid_search.best_params_\n",
    "grid_search.best_estimator_"
   ]
  },
  {
   "cell_type": "code",
   "execution_count": null,
   "metadata": {},
   "outputs": [],
   "source": [
    "cvres = grid_search.cv_results_\n",
    "for mean_score, params in zip(cvres[\"mean_test_score\"], cvres[\"params\"]):\n",
    "    print(np.sqrt(-mean_score), params)"
   ]
  },
  {
   "cell_type": "markdown",
   "metadata": {},
   "source": [
    "## Problem 5.10\n",
    "\n",
    "**The Problem**: Train an SVM Regressor on the California housing dataset."
   ]
  },
  {
   "cell_type": "code",
   "execution_count": null,
   "metadata": {},
   "outputs": [],
   "source": []
  }
 ],
 "metadata": {
  "kernelspec": {
   "display_name": "Python 3",
   "language": "python",
   "name": "python3"
  },
  "language_info": {
   "codemirror_mode": {
    "name": "ipython",
    "version": 3
   },
   "file_extension": ".py",
   "mimetype": "text/x-python",
   "name": "python",
   "nbconvert_exporter": "python",
   "pygments_lexer": "ipython3",
   "version": "3.7.3"
  },
  "toc": {
   "base_numbering": 1,
   "nav_menu": {},
   "number_sections": true,
   "sideBar": true,
   "skip_h1_title": false,
   "title_cell": "Table of Contents",
   "title_sidebar": "Contents",
   "toc_cell": false,
   "toc_position": {},
   "toc_section_display": true,
   "toc_window_display": false
  },
  "varInspector": {
   "cols": {
    "lenName": 16,
    "lenType": 16,
    "lenVar": 40
   },
   "kernels_config": {
    "python": {
     "delete_cmd_postfix": "",
     "delete_cmd_prefix": "del ",
     "library": "var_list.py",
     "varRefreshCmd": "print(var_dic_list())"
    },
    "r": {
     "delete_cmd_postfix": ") ",
     "delete_cmd_prefix": "rm(",
     "library": "var_list.r",
     "varRefreshCmd": "cat(var_dic_list()) "
    }
   },
   "types_to_exclude": [
    "module",
    "function",
    "builtin_function_or_method",
    "instance",
    "_Feature"
   ],
   "window_display": false
  }
 },
 "nbformat": 4,
 "nbformat_minor": 2
}
