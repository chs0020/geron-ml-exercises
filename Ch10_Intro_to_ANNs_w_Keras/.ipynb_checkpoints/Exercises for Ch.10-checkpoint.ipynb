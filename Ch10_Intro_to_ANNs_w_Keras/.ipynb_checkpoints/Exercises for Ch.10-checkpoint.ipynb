{
 "cells": [
  {
   "cell_type": "markdown",
   "metadata": {},
   "source": [
    "# 10.2 - XOR Implementation w/ Artificial Neurons"
   ]
  },
  {
   "cell_type": "code",
   "execution_count": null,
   "metadata": {},
   "outputs": [],
   "source": []
  },
  {
   "cell_type": "markdown",
   "metadata": {},
   "source": [
    "# 10.6 - Understanding Matrix and Bias Vector Topologies"
   ]
  },
  {
   "cell_type": "code",
   "execution_count": null,
   "metadata": {},
   "outputs": [],
   "source": []
  },
  {
   "cell_type": "markdown",
   "metadata": {},
   "source": [
    "# 10.10 - Practical ANN Implementation on MNIST\n",
    "\n",
    "First, we have to make our imports and load our data."
   ]
  },
  {
   "cell_type": "code",
   "execution_count": 2,
   "metadata": {
    "ExecuteTime": {
     "end_time": "2019-10-29T23:20:15.353696Z",
     "start_time": "2019-10-29T23:20:15.339974Z"
    }
   },
   "outputs": [],
   "source": [
    "import tensorflow as tf\n",
    "from tensorflow import keras"
   ]
  },
  {
   "cell_type": "code",
   "execution_count": 16,
   "metadata": {
    "ExecuteTime": {
     "end_time": "2019-10-29T23:26:28.656565Z",
     "start_time": "2019-10-29T23:26:27.998930Z"
    }
   },
   "outputs": [],
   "source": [
    "# Load the data\n",
    "mnist = keras.datasets.mnist.load_data()"
   ]
  },
  {
   "cell_type": "markdown",
   "metadata": {},
   "source": [
    "It is useful to know the dimensionality of the imported data, so we should print the shapes of the structures we are working with."
   ]
  },
  {
   "cell_type": "code",
   "execution_count": 17,
   "metadata": {
    "ExecuteTime": {
     "end_time": "2019-10-29T23:26:29.285316Z",
     "start_time": "2019-10-29T23:26:29.277642Z"
    }
   },
   "outputs": [
    {
     "name": "stdout",
     "output_type": "stream",
     "text": [
      "Keras Imported MNIST Shape:  (2, 2)\n"
     ]
    }
   ],
   "source": [
    "# Structure of MNIST\n",
    "print(\"Keras Imported MNIST Shape: \", np.shape(mnist))"
   ]
  },
  {
   "cell_type": "code",
   "execution_count": 27,
   "metadata": {
    "ExecuteTime": {
     "end_time": "2019-10-29T23:28:54.264236Z",
     "start_time": "2019-10-29T23:28:54.199536Z"
    }
   },
   "outputs": [],
   "source": [
    "X_train, y_train = mnist[0]\n",
    "X_test, y_test = mnist[1]"
   ]
  },
  {
   "cell_type": "code",
   "execution_count": 28,
   "metadata": {
    "ExecuteTime": {
     "end_time": "2019-10-29T23:28:54.546270Z",
     "start_time": "2019-10-29T23:28:54.530104Z"
    }
   },
   "outputs": [
    {
     "name": "stdout",
     "output_type": "stream",
     "text": [
      "X_train shape: (60000, 28, 28)\n",
      "X_test shape:  (10000, 28, 28)\n",
      "y_train shape: (60000,)\n",
      "y_test shape:  (10000,)\n"
     ]
    }
   ],
   "source": [
    "print(\"X_train shape:\", np.shape(X_train))\n",
    "print(\"X_test shape: \", np.shape(X_test))\n",
    "\n",
    "print(\"y_train shape:\", np.shape(y_train))\n",
    "print(\"y_test shape: \", np.shape(y_test))"
   ]
  },
  {
   "cell_type": "markdown",
   "metadata": {},
   "source": [
    "Just as we did earlier in the chapter, we should split these into training and validation sets as well as scale them for future Gradient Descent."
   ]
  },
  {
   "cell_type": "code",
   "execution_count": 29,
   "metadata": {
    "ExecuteTime": {
     "end_time": "2019-10-29T23:28:56.018361Z",
     "start_time": "2019-10-29T23:28:55.494060Z"
    }
   },
   "outputs": [],
   "source": [
    "# Scaling for Grad Descent and splitting into validation set\n",
    "X_valid, X_train = X_train[:5000] / 255.0, X_train[5000:] / 255.0\n",
    "y_valid, y_train = y_train[:5000], y_train[5000:]"
   ]
  },
  {
   "cell_type": "code",
   "execution_count": 31,
   "metadata": {
    "ExecuteTime": {
     "end_time": "2019-10-29T23:29:08.598527Z",
     "start_time": "2019-10-29T23:29:08.561205Z"
    }
   },
   "outputs": [
    {
     "name": "stdout",
     "output_type": "stream",
     "text": [
      "Max of the X_train dataset:  1.0\n",
      "Max of the y_train labels:  9\n"
     ]
    }
   ],
   "source": [
    "print(\"Max of the X_train dataset: \", np.max(X_train))\n",
    "print(\"Max of the y_train labels: \", np.max(y_train))"
   ]
  },
  {
   "cell_type": "markdown",
   "metadata": {
    "ExecuteTime": {
     "end_time": "2019-10-29T23:28:13.951872Z",
     "start_time": "2019-10-29T23:28:13.944250Z"
    }
   },
   "source": [
    "### Implementation via Keras Sequential API\n",
    "\n",
    "#### Model Construction Method, Initialization, and Summary"
   ]
  },
  {
   "cell_type": "code",
   "execution_count": 42,
   "metadata": {
    "ExecuteTime": {
     "end_time": "2019-10-29T23:40:22.188217Z",
     "start_time": "2019-10-29T23:40:22.171605Z"
    }
   },
   "outputs": [],
   "source": [
    "# Define build function for later KerasRegressor search\n",
    "def build_seq_MNIST_model(n_hidden=3, n_neurons=50, learning_rate=3e-3, input_shape=[28, 28]):\n",
    "    # Initialize model and flatten the input layer, a 28x28 pixel picture\n",
    "    model = keras.models.Sequential()\n",
    "    model.add(keras.layers.Flatten(input_shape=input_shape))\n",
    "    \n",
    "    # Create the hidden layers, defaulted to 3 layers of 50 neurons\n",
    "    for layer in range(n_hidden):\n",
    "        model.add(keras.layers.Dense(n_neurons, activation=\"relu\"))\n",
    "    \n",
    "    # Output layer as a softmax function to output unity probability across 10 output cases\n",
    "    model.add(keras.layers.Dense(10, activation=\"softmax\"))\n",
    "    \n",
    "    # Define the optimizer and compile it\n",
    "    optimizer = keras.optimizers.SGD(lr=learning_rate)\n",
    "    model.compile(loss=\"sparse_categorical_crossentropy\",\n",
    "                  optimizer=optimizer,\n",
    "                  metrics=[\"accuracy\"])\n",
    "    \n",
    "    return model"
   ]
  },
  {
   "cell_type": "code",
   "execution_count": 43,
   "metadata": {
    "ExecuteTime": {
     "end_time": "2019-10-29T23:40:22.579882Z",
     "start_time": "2019-10-29T23:40:22.380401Z"
    }
   },
   "outputs": [],
   "source": [
    "# Create an instance of the Sequentially constructed model\n",
    "seq_model = build_seq_MNIST_model()"
   ]
  },
  {
   "cell_type": "code",
   "execution_count": 44,
   "metadata": {
    "ExecuteTime": {
     "end_time": "2019-10-29T23:40:23.212617Z",
     "start_time": "2019-10-29T23:40:22.652596Z"
    }
   },
   "outputs": [
    {
     "data": {
      "image/png": "[encoded data removed]",
      "text/plain": [
       "<IPython.core.display.Image object>"
      ]
     },
     "execution_count": 44,
     "metadata": {},
     "output_type": "execute_result"
    }
   ],
   "source": [
    "# Plot default structure of model and output its summary\n",
    "keras.utils.plot_model(seq_model)"
   ]
  },
  {
   "cell_type": "code",
   "execution_count": 45,
   "metadata": {
    "ExecuteTime": {
     "end_time": "2019-10-29T23:40:23.358381Z",
     "start_time": "2019-10-29T23:40:23.320888Z"
    }
   },
   "outputs": [
    {
     "name": "stdout",
     "output_type": "stream",
     "text": [
      "Model: \"sequential_2\"\n",
      "_________________________________________________________________\n",
      "Layer (type)                 Output Shape              Param #   \n",
      "=================================================================\n",
      "flatten_2 (Flatten)          (None, 784)               0         \n",
      "_________________________________________________________________\n",
      "dense_8 (Dense)              (None, 50)                39250     \n",
      "_________________________________________________________________\n",
      "dense_9 (Dense)              (None, 50)                2550      \n",
      "_________________________________________________________________\n",
      "dense_10 (Dense)             (None, 50)                2550      \n",
      "_________________________________________________________________\n",
      "dense_11 (Dense)             (None, 10)                510       \n",
      "=================================================================\n",
      "Total params: 44,860\n",
      "Trainable params: 44,860\n",
      "Non-trainable params: 0\n",
      "_________________________________________________________________\n"
     ]
    }
   ],
   "source": [
    "seq_model.summary()"
   ]
  },
  {
   "cell_type": "markdown",
   "metadata": {},
   "source": [
    "#### Initial Model Training"
   ]
  },
  {
   "cell_type": "code",
   "execution_count": 47,
   "metadata": {
    "ExecuteTime": {
     "end_time": "2019-10-29T23:44:37.728172Z",
     "start_time": "2019-10-29T23:41:01.806474Z"
    }
   },
   "outputs": [
    {
     "name": "stdout",
     "output_type": "stream",
     "text": [
      "Train on 55000 samples, validate on 5000 samples\n",
      "Epoch 1/30\n",
      "55000/55000 [==============================] - 8s 149us/sample - loss: 1.6525 - accuracy: 0.5033 - val_loss: 0.7865 - val_accuracy: 0.8130\n",
      "Epoch 2/30\n",
      "55000/55000 [==============================] - 7s 129us/sample - loss: 0.5662 - accuracy: 0.8459 - val_loss: 0.4152 - val_accuracy: 0.8878\n",
      "Epoch 3/30\n",
      "55000/55000 [==============================] - 7s 130us/sample - loss: 0.4005 - accuracy: 0.8858 - val_loss: 0.3414 - val_accuracy: 0.9052\n",
      "Epoch 4/30\n",
      "55000/55000 [==============================] - 8s 141us/sample - loss: 0.3428 - accuracy: 0.9024 - val_loss: 0.2993 - val_accuracy: 0.9164\n",
      "Epoch 5/30\n",
      "55000/55000 [==============================] - 7s 123us/sample - loss: 0.3085 - accuracy: 0.9117 - val_loss: 0.2715 - val_accuracy: 0.9232\n",
      "Epoch 6/30\n",
      "55000/55000 [==============================] - 7s 131us/sample - loss: 0.2841 - accuracy: 0.9185 - val_loss: 0.2514 - val_accuracy: 0.9304\n",
      "Epoch 7/30\n",
      "55000/55000 [==============================] - 8s 141us/sample - loss: 0.2648 - accuracy: 0.9232 - val_loss: 0.2364 - val_accuracy: 0.9352\n",
      "Epoch 8/30\n",
      "55000/55000 [==============================] - 7s 127us/sample - loss: 0.2489 - accuracy: 0.9284 - val_loss: 0.2236 - val_accuracy: 0.9402\n",
      "Epoch 9/30\n",
      "55000/55000 [==============================] - 7s 122us/sample - loss: 0.2352 - accuracy: 0.9323 - val_loss: 0.2120 - val_accuracy: 0.9406\n",
      "Epoch 10/30\n",
      "55000/55000 [==============================] - 7s 121us/sample - loss: 0.2235 - accuracy: 0.9351 - val_loss: 0.2039 - val_accuracy: 0.9418\n",
      "Epoch 11/30\n",
      "55000/55000 [==============================] - 8s 137us/sample - loss: 0.2132 - accuracy: 0.9384 - val_loss: 0.1930 - val_accuracy: 0.9466\n",
      "Epoch 12/30\n",
      "55000/55000 [==============================] - 7s 120us/sample - loss: 0.2038 - accuracy: 0.9408 - val_loss: 0.1887 - val_accuracy: 0.9458\n",
      "Epoch 13/30\n",
      "55000/55000 [==============================] - 7s 129us/sample - loss: 0.1956 - accuracy: 0.9435 - val_loss: 0.1796 - val_accuracy: 0.9502\n",
      "Epoch 14/30\n",
      "55000/55000 [==============================] - 7s 122us/sample - loss: 0.1878 - accuracy: 0.9456 - val_loss: 0.1746 - val_accuracy: 0.9502\n",
      "Epoch 15/30\n",
      "55000/55000 [==============================] - 7s 126us/sample - loss: 0.1811 - accuracy: 0.9475 - val_loss: 0.1688 - val_accuracy: 0.9508\n",
      "Epoch 16/30\n",
      "55000/55000 [==============================] - 7s 126us/sample - loss: 0.1749 - accuracy: 0.9491 - val_loss: 0.1648 - val_accuracy: 0.9522\n",
      "Epoch 17/30\n",
      "55000/55000 [==============================] - 8s 141us/sample - loss: 0.1689 - accuracy: 0.9515 - val_loss: 0.1610 - val_accuracy: 0.9536\n",
      "Epoch 18/30\n",
      "55000/55000 [==============================] - 7s 130us/sample - loss: 0.1634 - accuracy: 0.9525 - val_loss: 0.1563 - val_accuracy: 0.9550\n",
      "Epoch 19/30\n",
      "55000/55000 [==============================] - 7s 132us/sample - loss: 0.1587 - accuracy: 0.9539 - val_loss: 0.1545 - val_accuracy: 0.9558\n",
      "Epoch 20/30\n",
      "55000/55000 [==============================] - 7s 135us/sample - loss: 0.1537 - accuracy: 0.9552 - val_loss: 0.1526 - val_accuracy: 0.9558\n",
      "Epoch 21/30\n",
      "55000/55000 [==============================] - 7s 128us/sample - loss: 0.1496 - accuracy: 0.9566 - val_loss: 0.1480 - val_accuracy: 0.9540\n",
      "Epoch 22/30\n",
      "55000/55000 [==============================] - 8s 138us/sample - loss: 0.1451 - accuracy: 0.9577 - val_loss: 0.1460 - val_accuracy: 0.9572\n",
      "Epoch 23/30\n",
      "55000/55000 [==============================] - 7s 125us/sample - loss: 0.1412 - accuracy: 0.9584 - val_loss: 0.1404 - val_accuracy: 0.9584\n",
      "Epoch 24/30\n",
      "55000/55000 [==============================] - 7s 136us/sample - loss: 0.1376 - accuracy: 0.9595 - val_loss: 0.1368 - val_accuracy: 0.9602\n",
      "Epoch 25/30\n",
      "55000/55000 [==============================] - 7s 127us/sample - loss: 0.1339 - accuracy: 0.9611 - val_loss: 0.1368 - val_accuracy: 0.9608\n",
      "Epoch 26/30\n",
      "55000/55000 [==============================] - 8s 138us/sample - loss: 0.1307 - accuracy: 0.9623 - val_loss: 0.1338 - val_accuracy: 0.9620\n",
      "Epoch 27/30\n",
      "55000/55000 [==============================] - 8s 139us/sample - loss: 0.1277 - accuracy: 0.9627 - val_loss: 0.1329 - val_accuracy: 0.9610\n",
      "Epoch 28/30\n",
      "55000/55000 [==============================] - 7s 130us/sample - loss: 0.1245 - accuracy: 0.9629 - val_loss: 0.1298 - val_accuracy: 0.9622\n",
      "Epoch 29/30\n",
      "55000/55000 [==============================] - 7s 125us/sample - loss: 0.1215 - accuracy: 0.9645 - val_loss: 0.1277 - val_accuracy: 0.9644\n",
      "Epoch 30/30\n",
      "55000/55000 [==============================] - 7s 123us/sample - loss: 0.1189 - accuracy: 0.9647 - val_loss: 0.1261 - val_accuracy: 0.9614\n"
     ]
    }
   ],
   "source": [
    "history = seq_model.fit(X_train,\n",
    "                        y_train,\n",
    "                        epochs=30,\n",
    "                        validation_data=(X_valid, y_valid))"
   ]
  },
  {
   "cell_type": "markdown",
   "metadata": {},
   "source": [
    "Plotting the information gathered in the history object:"
   ]
  },
  {
   "cell_type": "code",
   "execution_count": 48,
   "metadata": {
    "ExecuteTime": {
     "end_time": "2019-10-29T23:44:41.509367Z",
     "start_time": "2019-10-29T23:44:40.979076Z"
    }
   },
   "outputs": [],
   "source": [
    "import pandas as pd\n",
    "import matplotlib.pyplot as plt"
   ]
  },
  {
   "cell_type": "code",
   "execution_count": 49,
   "metadata": {
    "ExecuteTime": {
     "end_time": "2019-10-29T23:44:42.134596Z",
     "start_time": "2019-10-29T23:44:41.562111Z"
    }
   },
   "outputs": [
    {
     "data": {
      "image/png": "[encoded data removed]",
      "text/plain": [
       "<Figure size 576x360 with 1 Axes>"
      ]
     },
     "metadata": {
      "needs_background": "light"
     },
     "output_type": "display_data"
    }
   ],
   "source": [
    "pd.DataFrame(history.history).plot(figsize=(8, 5))\n",
    "plt.grid(True)\n",
    "plt.gca().set_ylim(0, 1) # set the vertical range to [0-1]\n",
    "plt.title(\"First Keras Model Learning Curve - Fashion MNIST\")\n",
    "plt.xlabel(\"Training Epoch\")\n",
    "plt.show()"
   ]
  },
  {
   "cell_type": "markdown",
   "metadata": {},
   "source": [
    "#### Custom Callback for Learning Rate Optimization\n",
    "\n",
    "We want to be able to perform the suggested task and examine the loss as a function of learning rate. I believe validation loss would be the better of the options to choose. Just as well, I am not sure if the learning rate should change every epoch, or if multiple epochs should be ran at a single learning rate. I am fairly certain the latter is the perferable method."
   ]
  },
  {
   "cell_type": "markdown",
   "metadata": {},
   "source": [
    "That being said, we want to grab both the learning rate of the model and the validation loss at the end of each epoch with our custom callback. To do that we need to know what parameter of what object to examine. The object we want to examine is our logs data structure. We want to append to that the scheduled learning rate at each epoch. "
   ]
  },
  {
   "cell_type": "code",
   "execution_count": 54,
   "metadata": {
    "ExecuteTime": {
     "end_time": "2019-10-30T22:14:02.860420Z",
     "start_time": "2019-10-30T22:14:02.840419Z"
    }
   },
   "outputs": [],
   "source": [
    "class LearningRateScheduler(tf.keras.callbacks.Callback):\n",
    "    \"\"\"Learning rate scheduler which sets the learning rate according to schedule.\n",
    "\n",
    "        Arguments:\n",
    "          schedule: a function that takes an epoch index\n",
    "              (integer, indexed from 0) and current learning rate\n",
    "              as inputs and returns a new learning rate as output (float).\n",
    "    \"\"\"\n",
    "    def __init__(self, schedule):\n",
    "        super(LearningRateScheduler, self).__init__()\n",
    "        self.schedule = schedule\n",
    "\n",
    "    def on_epoch_begin(self, epoch, logs):\n",
    "        if not hasattr(self.model.optimizer, 'lr'):\n",
    "          raise ValueError('Optimizer must have a \"lr\" attribute.')\n",
    "\n",
    "        # Call schedule function to get the scheduled learning rate.\n",
    "        scheduled_lr = self.schedule(epoch)\n",
    "\n",
    "        # Set the value back to the optimizer before this epoch starts\n",
    "        # and save to our logs\n",
    "        tf.keras.backend.set_value(self.model.optimizer.lr, scheduled_lr)\n",
    "        logs['scheduled_lr'] = scheduled_lr\n",
    "\n",
    "def lr_schedule(epoch, k=0.45, lr_init=10e-5):\n",
    "    \"\"\"Helper function to retrieve the scheduled learning rate based on epoch.\"\"\"\n",
    "    lr_new = lr_init * np.exp(k*epoch)\n",
    "    return lr_new\n"
   ]
  },
  {
   "cell_type": "code",
   "execution_count": null,
   "metadata": {},
   "outputs": [],
   "source": [
    "history = seq_model.fit(X_train,\n",
    "                        y_train,\n",
    "                        epochs=30,\n",
    "                        validation_data=(X_valid, y_valid))\n",
    "                        callbacks=[LearningRateScheduler(lr_schedule)])\n"
   ]
  }
 ],
 "metadata": {
  "kernelspec": {
   "display_name": "Python 3",
   "language": "python",
   "name": "python3"
  },
  "language_info": {
   "codemirror_mode": {
    "name": "ipython",
    "version": 3
   },
   "file_extension": ".py",
   "mimetype": "text/x-python",
   "name": "python",
   "nbconvert_exporter": "python",
   "pygments_lexer": "ipython3",
   "version": "3.7.3"
  },
  "toc": {
   "base_numbering": 1,
   "nav_menu": {},
   "number_sections": true,
   "sideBar": true,
   "skip_h1_title": false,
   "title_cell": "Table of Contents",
   "title_sidebar": "Contents",
   "toc_cell": false,
   "toc_position": {},
   "toc_section_display": true,
   "toc_window_display": false
  },
  "varInspector": {
   "cols": {
    "lenName": 16,
    "lenType": 16,
    "lenVar": 40
   },
   "kernels_config": {
    "python": {
     "delete_cmd_postfix": "",
     "delete_cmd_prefix": "del ",
     "library": "var_list.py",
     "varRefreshCmd": "print(var_dic_list())"
    },
    "r": {
     "delete_cmd_postfix": ") ",
     "delete_cmd_prefix": "rm(",
     "library": "var_list.r",
     "varRefreshCmd": "cat(var_dic_list()) "
    }
   },
   "types_to_exclude": [
    "module",
    "function",
    "builtin_function_or_method",
    "instance",
    "_Feature"
   ],
   "window_display": false
  }
 },
 "nbformat": 4,
 "nbformat_minor": 2
}
